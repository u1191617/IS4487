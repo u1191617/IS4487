{
  "nbformat": 4,
  "nbformat_minor": 0,
  "metadata": {
    "colab": {
      "provenance": [],
      "include_colab_link": true
    },
    "kernelspec": {
      "name": "python3",
      "display_name": "Python 3"
    },
    "language_info": {
      "name": "python"
    }
  },
  "cells": [
    {
      "cell_type": "markdown",
      "metadata": {
        "id": "view-in-github",
        "colab_type": "text"
      },
      "source": [
        "<a href=\"https://colab.research.google.com/github/u1191617/IS4487/blob/main/Lab1.ipynb\" target=\"_parent\"><img src=\"https://colab.research.google.com/assets/colab-badge.svg\" alt=\"Open In Colab\"/></a>"
      ]
    },
    {
      "cell_type": "markdown",
      "metadata": {
        "id": "p_Yu45OYdj3Y"
      },
      "source": [
        "# Hunter Nilsen\n",
        "\n",
        "# IS 4487 Module 1 Script\n",
        "\n",
        "## Agenda\n",
        "\n",
        "- Loading installed packages\n",
        "- Inspect data\n",
        "- Explore plot types \n",
        "\n",
        "Make sure you have downloaded tonight's script and data from Canvas."
      ]
    },
    {
      "cell_type": "markdown",
      "source": [],
      "metadata": {
        "id": "EqRgESoED57H"
      }
    },
    {
      "cell_type": "markdown",
      "metadata": {
        "id": "UE93RwXhgiJS"
      },
      "source": [
        "##Load Libraries\n",
        "\n",
        "In this class we will be using \n",
        "- Pandas\n",
        "- Scikitlearn\n",
        "- Matplotlib\n",
        "\n",
        "We can pull sample data from \n",
        "- statsmodels.api"
      ]
    },
    {
      "cell_type": "code",
      "metadata": {
        "id": "JYRZY5n0gfNe"
      },
      "source": [
        "import pandas as pd\n",
        "import matplotlib as mpl\n",
        "import sklearn as sl\n",
        "import statsmodels.api as sm"
      ],
      "execution_count": 5,
      "outputs": []
    },
    {
      "cell_type": "markdown",
      "metadata": {
        "id": "bREaXo8jfu-O"
      },
      "source": [
        "## Getting data into Pandas\n",
        "\n",
        "In this case we will load data from the statsmodels.org library\n",
        "\n",
        "MTCARS is a traditional dataset used for learning.\n",
        "\n"
      ]
    },
    {
      "cell_type": "code",
      "metadata": {
        "colab": {
          "base_uri": "https://localhost:8080/"
        },
        "id": "6_FwprxVgR0e",
        "outputId": "f475d609-295f-4c38-a0e3-917f9e6271bf"
      },
      "source": [
        "mtcars = sm.datasets.get_rdataset(\"mtcars\", \"datasets\", cache=True).data\n",
        "df = pd.DataFrame(mtcars)\n",
        "print(df)"
      ],
      "execution_count": 6,
      "outputs": [
        {
          "output_type": "stream",
          "name": "stdout",
          "text": [
            "                      mpg  cyl   disp   hp  drat     wt   qsec  vs  am  gear  \\\n",
            "Mazda RX4            21.0    6  160.0  110  3.90  2.620  16.46   0   1     4   \n",
            "Mazda RX4 Wag        21.0    6  160.0  110  3.90  2.875  17.02   0   1     4   \n",
            "Datsun 710           22.8    4  108.0   93  3.85  2.320  18.61   1   1     4   \n",
            "Hornet 4 Drive       21.4    6  258.0  110  3.08  3.215  19.44   1   0     3   \n",
            "Hornet Sportabout    18.7    8  360.0  175  3.15  3.440  17.02   0   0     3   \n",
            "Valiant              18.1    6  225.0  105  2.76  3.460  20.22   1   0     3   \n",
            "Duster 360           14.3    8  360.0  245  3.21  3.570  15.84   0   0     3   \n",
            "Merc 240D            24.4    4  146.7   62  3.69  3.190  20.00   1   0     4   \n",
            "Merc 230             22.8    4  140.8   95  3.92  3.150  22.90   1   0     4   \n",
            "Merc 280             19.2    6  167.6  123  3.92  3.440  18.30   1   0     4   \n",
            "Merc 280C            17.8    6  167.6  123  3.92  3.440  18.90   1   0     4   \n",
            "Merc 450SE           16.4    8  275.8  180  3.07  4.070  17.40   0   0     3   \n",
            "Merc 450SL           17.3    8  275.8  180  3.07  3.730  17.60   0   0     3   \n",
            "Merc 450SLC          15.2    8  275.8  180  3.07  3.780  18.00   0   0     3   \n",
            "Cadillac Fleetwood   10.4    8  472.0  205  2.93  5.250  17.98   0   0     3   \n",
            "Lincoln Continental  10.4    8  460.0  215  3.00  5.424  17.82   0   0     3   \n",
            "Chrysler Imperial    14.7    8  440.0  230  3.23  5.345  17.42   0   0     3   \n",
            "Fiat 128             32.4    4   78.7   66  4.08  2.200  19.47   1   1     4   \n",
            "Honda Civic          30.4    4   75.7   52  4.93  1.615  18.52   1   1     4   \n",
            "Toyota Corolla       33.9    4   71.1   65  4.22  1.835  19.90   1   1     4   \n",
            "Toyota Corona        21.5    4  120.1   97  3.70  2.465  20.01   1   0     3   \n",
            "Dodge Challenger     15.5    8  318.0  150  2.76  3.520  16.87   0   0     3   \n",
            "AMC Javelin          15.2    8  304.0  150  3.15  3.435  17.30   0   0     3   \n",
            "Camaro Z28           13.3    8  350.0  245  3.73  3.840  15.41   0   0     3   \n",
            "Pontiac Firebird     19.2    8  400.0  175  3.08  3.845  17.05   0   0     3   \n",
            "Fiat X1-9            27.3    4   79.0   66  4.08  1.935  18.90   1   1     4   \n",
            "Porsche 914-2        26.0    4  120.3   91  4.43  2.140  16.70   0   1     5   \n",
            "Lotus Europa         30.4    4   95.1  113  3.77  1.513  16.90   1   1     5   \n",
            "Ford Pantera L       15.8    8  351.0  264  4.22  3.170  14.50   0   1     5   \n",
            "Ferrari Dino         19.7    6  145.0  175  3.62  2.770  15.50   0   1     5   \n",
            "Maserati Bora        15.0    8  301.0  335  3.54  3.570  14.60   0   1     5   \n",
            "Volvo 142E           21.4    4  121.0  109  4.11  2.780  18.60   1   1     4   \n",
            "\n",
            "                     carb  \n",
            "Mazda RX4               4  \n",
            "Mazda RX4 Wag           4  \n",
            "Datsun 710              1  \n",
            "Hornet 4 Drive          1  \n",
            "Hornet Sportabout       2  \n",
            "Valiant                 1  \n",
            "Duster 360              4  \n",
            "Merc 240D               2  \n",
            "Merc 230                2  \n",
            "Merc 280                4  \n",
            "Merc 280C               4  \n",
            "Merc 450SE              3  \n",
            "Merc 450SL              3  \n",
            "Merc 450SLC             3  \n",
            "Cadillac Fleetwood      4  \n",
            "Lincoln Continental     4  \n",
            "Chrysler Imperial       4  \n",
            "Fiat 128                1  \n",
            "Honda Civic             2  \n",
            "Toyota Corolla          1  \n",
            "Toyota Corona           1  \n",
            "Dodge Challenger        2  \n",
            "AMC Javelin             2  \n",
            "Camaro Z28              4  \n",
            "Pontiac Firebird        2  \n",
            "Fiat X1-9               1  \n",
            "Porsche 914-2           2  \n",
            "Lotus Europa            2  \n",
            "Ford Pantera L          4  \n",
            "Ferrari Dino            6  \n",
            "Maserati Bora           8  \n",
            "Volvo 142E              2  \n"
          ]
        }
      ]
    },
    {
      "cell_type": "markdown",
      "metadata": {
        "id": "UlxcLPS-m0NO"
      },
      "source": [
        "## Preview Data\n",
        "\n",
        "Use the following data dictionary to understand the attributes available\n",
        "\n",
        "|Attribute | Description |\n",
        "|---------|--------------|\n",
        "|\tmpg\t|Miles/(US) gallon|\n",
        "|\tcyl|\tNumber of cylinders|\n",
        "|\tdisp|\tDisplacement (cu.in.)|\n",
        "|hp|\tGross horsepower|\n",
        "|drat|\tRear axle ratio|\n",
        "|wt|\tWeight (1000 lbs)|\n",
        "|qsec|\t1/4 mile time|\n",
        "|vs|\tEngine (0 = V-shaped, 1 = straight)|\n",
        "|am|\tTransmission (0 = automatic, 1 = manual)|\n",
        "|gear|\tNumber of forward gears|"
      ]
    },
    {
      "cell_type": "code",
      "metadata": {
        "colab": {
          "base_uri": "https://localhost:8080/"
        },
        "id": "gSvao0dlhlNn",
        "outputId": "e13e5ae9-4521-4e0f-82a6-4707084ec158"
      },
      "source": [
        "#look at the top rows\n",
        "df.head(10) \n",
        "df.info()"
      ],
      "execution_count": 13,
      "outputs": [
        {
          "output_type": "stream",
          "name": "stdout",
          "text": [
            "<class 'pandas.core.frame.DataFrame'>\n",
            "Index: 32 entries, Mazda RX4 to Volvo 142E\n",
            "Data columns (total 11 columns):\n",
            " #   Column  Non-Null Count  Dtype  \n",
            "---  ------  --------------  -----  \n",
            " 0   mpg     32 non-null     float64\n",
            " 1   cyl     32 non-null     int64  \n",
            " 2   disp    32 non-null     float64\n",
            " 3   hp      32 non-null     int64  \n",
            " 4   drat    32 non-null     float64\n",
            " 5   wt      32 non-null     float64\n",
            " 6   qsec    32 non-null     float64\n",
            " 7   vs      32 non-null     int64  \n",
            " 8   am      32 non-null     int64  \n",
            " 9   gear    32 non-null     int64  \n",
            " 10  carb    32 non-null     int64  \n",
            "dtypes: float64(5), int64(6)\n",
            "memory usage: 3.0+ KB\n"
          ]
        }
      ]
    },
    {
      "cell_type": "code",
      "metadata": {
        "colab": {
          "base_uri": "https://localhost:8080/",
          "height": 520
        },
        "id": "Mk01Ip_Ehk5c",
        "outputId": "205a487c-380f-4d06-bb5d-814dbf46d115"
      },
      "source": [
        "#look at last rows\n",
        "df.tail(15) "
      ],
      "execution_count": 22,
      "outputs": [
        {
          "output_type": "execute_result",
          "data": {
            "text/plain": [
              "                   mpg  cyl   disp   hp  drat     wt   qsec  vs  am  gear  \\\n",
              "Fiat 128          32.4    4   78.7   66  4.08  2.200  19.47   1   1     4   \n",
              "Honda Civic       30.4    4   75.7   52  4.93  1.615  18.52   1   1     4   \n",
              "Toyota Corolla    33.9    4   71.1   65  4.22  1.835  19.90   1   1     4   \n",
              "Toyota Corona     21.5    4  120.1   97  3.70  2.465  20.01   1   0     3   \n",
              "Dodge Challenger  15.5    8  318.0  150  2.76  3.520  16.87   0   0     3   \n",
              "AMC Javelin       15.2    8  304.0  150  3.15  3.435  17.30   0   0     3   \n",
              "Camaro Z28        13.3    8  350.0  245  3.73  3.840  15.41   0   0     3   \n",
              "Pontiac Firebird  19.2    8  400.0  175  3.08  3.845  17.05   0   0     3   \n",
              "Fiat X1-9         27.3    4   79.0   66  4.08  1.935  18.90   1   1     4   \n",
              "Porsche 914-2     26.0    4  120.3   91  4.43  2.140  16.70   0   1     5   \n",
              "Lotus Europa      30.4    4   95.1  113  3.77  1.513  16.90   1   1     5   \n",
              "Ford Pantera L    15.8    8  351.0  264  4.22  3.170  14.50   0   1     5   \n",
              "Ferrari Dino      19.7    6  145.0  175  3.62  2.770  15.50   0   1     5   \n",
              "Maserati Bora     15.0    8  301.0  335  3.54  3.570  14.60   0   1     5   \n",
              "Volvo 142E        21.4    4  121.0  109  4.11  2.780  18.60   1   1     4   \n",
              "\n",
              "                  carb  \n",
              "Fiat 128             1  \n",
              "Honda Civic          2  \n",
              "Toyota Corolla       1  \n",
              "Toyota Corona        1  \n",
              "Dodge Challenger     2  \n",
              "AMC Javelin          2  \n",
              "Camaro Z28           4  \n",
              "Pontiac Firebird     2  \n",
              "Fiat X1-9            1  \n",
              "Porsche 914-2        2  \n",
              "Lotus Europa         2  \n",
              "Ford Pantera L       4  \n",
              "Ferrari Dino         6  \n",
              "Maserati Bora        8  \n",
              "Volvo 142E           2  "
            ],
            "text/html": [
              "\n",
              "  <div id=\"df-58b02560-aa77-420a-ba5a-f2fb91063e29\">\n",
              "    <div class=\"colab-df-container\">\n",
              "      <div>\n",
              "<style scoped>\n",
              "    .dataframe tbody tr th:only-of-type {\n",
              "        vertical-align: middle;\n",
              "    }\n",
              "\n",
              "    .dataframe tbody tr th {\n",
              "        vertical-align: top;\n",
              "    }\n",
              "\n",
              "    .dataframe thead th {\n",
              "        text-align: right;\n",
              "    }\n",
              "</style>\n",
              "<table border=\"1\" class=\"dataframe\">\n",
              "  <thead>\n",
              "    <tr style=\"text-align: right;\">\n",
              "      <th></th>\n",
              "      <th>mpg</th>\n",
              "      <th>cyl</th>\n",
              "      <th>disp</th>\n",
              "      <th>hp</th>\n",
              "      <th>drat</th>\n",
              "      <th>wt</th>\n",
              "      <th>qsec</th>\n",
              "      <th>vs</th>\n",
              "      <th>am</th>\n",
              "      <th>gear</th>\n",
              "      <th>carb</th>\n",
              "    </tr>\n",
              "  </thead>\n",
              "  <tbody>\n",
              "    <tr>\n",
              "      <th>Fiat 128</th>\n",
              "      <td>32.4</td>\n",
              "      <td>4</td>\n",
              "      <td>78.7</td>\n",
              "      <td>66</td>\n",
              "      <td>4.08</td>\n",
              "      <td>2.200</td>\n",
              "      <td>19.47</td>\n",
              "      <td>1</td>\n",
              "      <td>1</td>\n",
              "      <td>4</td>\n",
              "      <td>1</td>\n",
              "    </tr>\n",
              "    <tr>\n",
              "      <th>Honda Civic</th>\n",
              "      <td>30.4</td>\n",
              "      <td>4</td>\n",
              "      <td>75.7</td>\n",
              "      <td>52</td>\n",
              "      <td>4.93</td>\n",
              "      <td>1.615</td>\n",
              "      <td>18.52</td>\n",
              "      <td>1</td>\n",
              "      <td>1</td>\n",
              "      <td>4</td>\n",
              "      <td>2</td>\n",
              "    </tr>\n",
              "    <tr>\n",
              "      <th>Toyota Corolla</th>\n",
              "      <td>33.9</td>\n",
              "      <td>4</td>\n",
              "      <td>71.1</td>\n",
              "      <td>65</td>\n",
              "      <td>4.22</td>\n",
              "      <td>1.835</td>\n",
              "      <td>19.90</td>\n",
              "      <td>1</td>\n",
              "      <td>1</td>\n",
              "      <td>4</td>\n",
              "      <td>1</td>\n",
              "    </tr>\n",
              "    <tr>\n",
              "      <th>Toyota Corona</th>\n",
              "      <td>21.5</td>\n",
              "      <td>4</td>\n",
              "      <td>120.1</td>\n",
              "      <td>97</td>\n",
              "      <td>3.70</td>\n",
              "      <td>2.465</td>\n",
              "      <td>20.01</td>\n",
              "      <td>1</td>\n",
              "      <td>0</td>\n",
              "      <td>3</td>\n",
              "      <td>1</td>\n",
              "    </tr>\n",
              "    <tr>\n",
              "      <th>Dodge Challenger</th>\n",
              "      <td>15.5</td>\n",
              "      <td>8</td>\n",
              "      <td>318.0</td>\n",
              "      <td>150</td>\n",
              "      <td>2.76</td>\n",
              "      <td>3.520</td>\n",
              "      <td>16.87</td>\n",
              "      <td>0</td>\n",
              "      <td>0</td>\n",
              "      <td>3</td>\n",
              "      <td>2</td>\n",
              "    </tr>\n",
              "    <tr>\n",
              "      <th>AMC Javelin</th>\n",
              "      <td>15.2</td>\n",
              "      <td>8</td>\n",
              "      <td>304.0</td>\n",
              "      <td>150</td>\n",
              "      <td>3.15</td>\n",
              "      <td>3.435</td>\n",
              "      <td>17.30</td>\n",
              "      <td>0</td>\n",
              "      <td>0</td>\n",
              "      <td>3</td>\n",
              "      <td>2</td>\n",
              "    </tr>\n",
              "    <tr>\n",
              "      <th>Camaro Z28</th>\n",
              "      <td>13.3</td>\n",
              "      <td>8</td>\n",
              "      <td>350.0</td>\n",
              "      <td>245</td>\n",
              "      <td>3.73</td>\n",
              "      <td>3.840</td>\n",
              "      <td>15.41</td>\n",
              "      <td>0</td>\n",
              "      <td>0</td>\n",
              "      <td>3</td>\n",
              "      <td>4</td>\n",
              "    </tr>\n",
              "    <tr>\n",
              "      <th>Pontiac Firebird</th>\n",
              "      <td>19.2</td>\n",
              "      <td>8</td>\n",
              "      <td>400.0</td>\n",
              "      <td>175</td>\n",
              "      <td>3.08</td>\n",
              "      <td>3.845</td>\n",
              "      <td>17.05</td>\n",
              "      <td>0</td>\n",
              "      <td>0</td>\n",
              "      <td>3</td>\n",
              "      <td>2</td>\n",
              "    </tr>\n",
              "    <tr>\n",
              "      <th>Fiat X1-9</th>\n",
              "      <td>27.3</td>\n",
              "      <td>4</td>\n",
              "      <td>79.0</td>\n",
              "      <td>66</td>\n",
              "      <td>4.08</td>\n",
              "      <td>1.935</td>\n",
              "      <td>18.90</td>\n",
              "      <td>1</td>\n",
              "      <td>1</td>\n",
              "      <td>4</td>\n",
              "      <td>1</td>\n",
              "    </tr>\n",
              "    <tr>\n",
              "      <th>Porsche 914-2</th>\n",
              "      <td>26.0</td>\n",
              "      <td>4</td>\n",
              "      <td>120.3</td>\n",
              "      <td>91</td>\n",
              "      <td>4.43</td>\n",
              "      <td>2.140</td>\n",
              "      <td>16.70</td>\n",
              "      <td>0</td>\n",
              "      <td>1</td>\n",
              "      <td>5</td>\n",
              "      <td>2</td>\n",
              "    </tr>\n",
              "    <tr>\n",
              "      <th>Lotus Europa</th>\n",
              "      <td>30.4</td>\n",
              "      <td>4</td>\n",
              "      <td>95.1</td>\n",
              "      <td>113</td>\n",
              "      <td>3.77</td>\n",
              "      <td>1.513</td>\n",
              "      <td>16.90</td>\n",
              "      <td>1</td>\n",
              "      <td>1</td>\n",
              "      <td>5</td>\n",
              "      <td>2</td>\n",
              "    </tr>\n",
              "    <tr>\n",
              "      <th>Ford Pantera L</th>\n",
              "      <td>15.8</td>\n",
              "      <td>8</td>\n",
              "      <td>351.0</td>\n",
              "      <td>264</td>\n",
              "      <td>4.22</td>\n",
              "      <td>3.170</td>\n",
              "      <td>14.50</td>\n",
              "      <td>0</td>\n",
              "      <td>1</td>\n",
              "      <td>5</td>\n",
              "      <td>4</td>\n",
              "    </tr>\n",
              "    <tr>\n",
              "      <th>Ferrari Dino</th>\n",
              "      <td>19.7</td>\n",
              "      <td>6</td>\n",
              "      <td>145.0</td>\n",
              "      <td>175</td>\n",
              "      <td>3.62</td>\n",
              "      <td>2.770</td>\n",
              "      <td>15.50</td>\n",
              "      <td>0</td>\n",
              "      <td>1</td>\n",
              "      <td>5</td>\n",
              "      <td>6</td>\n",
              "    </tr>\n",
              "    <tr>\n",
              "      <th>Maserati Bora</th>\n",
              "      <td>15.0</td>\n",
              "      <td>8</td>\n",
              "      <td>301.0</td>\n",
              "      <td>335</td>\n",
              "      <td>3.54</td>\n",
              "      <td>3.570</td>\n",
              "      <td>14.60</td>\n",
              "      <td>0</td>\n",
              "      <td>1</td>\n",
              "      <td>5</td>\n",
              "      <td>8</td>\n",
              "    </tr>\n",
              "    <tr>\n",
              "      <th>Volvo 142E</th>\n",
              "      <td>21.4</td>\n",
              "      <td>4</td>\n",
              "      <td>121.0</td>\n",
              "      <td>109</td>\n",
              "      <td>4.11</td>\n",
              "      <td>2.780</td>\n",
              "      <td>18.60</td>\n",
              "      <td>1</td>\n",
              "      <td>1</td>\n",
              "      <td>4</td>\n",
              "      <td>2</td>\n",
              "    </tr>\n",
              "  </tbody>\n",
              "</table>\n",
              "</div>\n",
              "      <button class=\"colab-df-convert\" onclick=\"convertToInteractive('df-58b02560-aa77-420a-ba5a-f2fb91063e29')\"\n",
              "              title=\"Convert this dataframe to an interactive table.\"\n",
              "              style=\"display:none;\">\n",
              "        \n",
              "  <svg xmlns=\"http://www.w3.org/2000/svg\" height=\"24px\"viewBox=\"0 0 24 24\"\n",
              "       width=\"24px\">\n",
              "    <path d=\"M0 0h24v24H0V0z\" fill=\"none\"/>\n",
              "    <path d=\"M18.56 5.44l.94 2.06.94-2.06 2.06-.94-2.06-.94-.94-2.06-.94 2.06-2.06.94zm-11 1L8.5 8.5l.94-2.06 2.06-.94-2.06-.94L8.5 2.5l-.94 2.06-2.06.94zm10 10l.94 2.06.94-2.06 2.06-.94-2.06-.94-.94-2.06-.94 2.06-2.06.94z\"/><path d=\"M17.41 7.96l-1.37-1.37c-.4-.4-.92-.59-1.43-.59-.52 0-1.04.2-1.43.59L10.3 9.45l-7.72 7.72c-.78.78-.78 2.05 0 2.83L4 21.41c.39.39.9.59 1.41.59.51 0 1.02-.2 1.41-.59l7.78-7.78 2.81-2.81c.8-.78.8-2.07 0-2.86zM5.41 20L4 18.59l7.72-7.72 1.47 1.35L5.41 20z\"/>\n",
              "  </svg>\n",
              "      </button>\n",
              "      \n",
              "  <style>\n",
              "    .colab-df-container {\n",
              "      display:flex;\n",
              "      flex-wrap:wrap;\n",
              "      gap: 12px;\n",
              "    }\n",
              "\n",
              "    .colab-df-convert {\n",
              "      background-color: #E8F0FE;\n",
              "      border: none;\n",
              "      border-radius: 50%;\n",
              "      cursor: pointer;\n",
              "      display: none;\n",
              "      fill: #1967D2;\n",
              "      height: 32px;\n",
              "      padding: 0 0 0 0;\n",
              "      width: 32px;\n",
              "    }\n",
              "\n",
              "    .colab-df-convert:hover {\n",
              "      background-color: #E2EBFA;\n",
              "      box-shadow: 0px 1px 2px rgba(60, 64, 67, 0.3), 0px 1px 3px 1px rgba(60, 64, 67, 0.15);\n",
              "      fill: #174EA6;\n",
              "    }\n",
              "\n",
              "    [theme=dark] .colab-df-convert {\n",
              "      background-color: #3B4455;\n",
              "      fill: #D2E3FC;\n",
              "    }\n",
              "\n",
              "    [theme=dark] .colab-df-convert:hover {\n",
              "      background-color: #434B5C;\n",
              "      box-shadow: 0px 1px 3px 1px rgba(0, 0, 0, 0.15);\n",
              "      filter: drop-shadow(0px 1px 2px rgba(0, 0, 0, 0.3));\n",
              "      fill: #FFFFFF;\n",
              "    }\n",
              "  </style>\n",
              "\n",
              "      <script>\n",
              "        const buttonEl =\n",
              "          document.querySelector('#df-58b02560-aa77-420a-ba5a-f2fb91063e29 button.colab-df-convert');\n",
              "        buttonEl.style.display =\n",
              "          google.colab.kernel.accessAllowed ? 'block' : 'none';\n",
              "\n",
              "        async function convertToInteractive(key) {\n",
              "          const element = document.querySelector('#df-58b02560-aa77-420a-ba5a-f2fb91063e29');\n",
              "          const dataTable =\n",
              "            await google.colab.kernel.invokeFunction('convertToInteractive',\n",
              "                                                     [key], {});\n",
              "          if (!dataTable) return;\n",
              "\n",
              "          const docLinkHtml = 'Like what you see? Visit the ' +\n",
              "            '<a target=\"_blank\" href=https://colab.research.google.com/notebooks/data_table.ipynb>data table notebook</a>'\n",
              "            + ' to learn more about interactive tables.';\n",
              "          element.innerHTML = '';\n",
              "          dataTable['output_type'] = 'display_data';\n",
              "          await google.colab.output.renderOutput(dataTable, element);\n",
              "          const docLink = document.createElement('div');\n",
              "          docLink.innerHTML = docLinkHtml;\n",
              "          element.appendChild(docLink);\n",
              "        }\n",
              "      </script>\n",
              "    </div>\n",
              "  </div>\n",
              "  "
            ]
          },
          "metadata": {},
          "execution_count": 22
        }
      ]
    },
    {
      "cell_type": "code",
      "metadata": {
        "colab": {
          "base_uri": "https://localhost:8080/",
          "height": 300
        },
        "id": "7Hxb10xChiAf",
        "outputId": "9371d4f5-01b7-4c0d-d401-121ad84a94d6"
      },
      "source": [
        "#get a summary of the dataset\n",
        "df.describe()"
      ],
      "execution_count": 24,
      "outputs": [
        {
          "output_type": "execute_result",
          "data": {
            "text/plain": [
              "             mpg        cyl        disp          hp       drat         wt  \\\n",
              "count  32.000000  32.000000   32.000000   32.000000  32.000000  32.000000   \n",
              "mean   20.090625   6.187500  230.721875  146.687500   3.596563   3.217250   \n",
              "std     6.026948   1.785922  123.938694   68.562868   0.534679   0.978457   \n",
              "min    10.400000   4.000000   71.100000   52.000000   2.760000   1.513000   \n",
              "25%    15.425000   4.000000  120.825000   96.500000   3.080000   2.581250   \n",
              "50%    19.200000   6.000000  196.300000  123.000000   3.695000   3.325000   \n",
              "75%    22.800000   8.000000  326.000000  180.000000   3.920000   3.610000   \n",
              "max    33.900000   8.000000  472.000000  335.000000   4.930000   5.424000   \n",
              "\n",
              "            qsec         vs         am       gear     carb  \n",
              "count  32.000000  32.000000  32.000000  32.000000  32.0000  \n",
              "mean   17.848750   0.437500   0.406250   3.687500   2.8125  \n",
              "std     1.786943   0.504016   0.498991   0.737804   1.6152  \n",
              "min    14.500000   0.000000   0.000000   3.000000   1.0000  \n",
              "25%    16.892500   0.000000   0.000000   3.000000   2.0000  \n",
              "50%    17.710000   0.000000   0.000000   4.000000   2.0000  \n",
              "75%    18.900000   1.000000   1.000000   4.000000   4.0000  \n",
              "max    22.900000   1.000000   1.000000   5.000000   8.0000  "
            ],
            "text/html": [
              "\n",
              "  <div id=\"df-8976d512-e5cf-4b44-8b0d-aa33751d7aec\">\n",
              "    <div class=\"colab-df-container\">\n",
              "      <div>\n",
              "<style scoped>\n",
              "    .dataframe tbody tr th:only-of-type {\n",
              "        vertical-align: middle;\n",
              "    }\n",
              "\n",
              "    .dataframe tbody tr th {\n",
              "        vertical-align: top;\n",
              "    }\n",
              "\n",
              "    .dataframe thead th {\n",
              "        text-align: right;\n",
              "    }\n",
              "</style>\n",
              "<table border=\"1\" class=\"dataframe\">\n",
              "  <thead>\n",
              "    <tr style=\"text-align: right;\">\n",
              "      <th></th>\n",
              "      <th>mpg</th>\n",
              "      <th>cyl</th>\n",
              "      <th>disp</th>\n",
              "      <th>hp</th>\n",
              "      <th>drat</th>\n",
              "      <th>wt</th>\n",
              "      <th>qsec</th>\n",
              "      <th>vs</th>\n",
              "      <th>am</th>\n",
              "      <th>gear</th>\n",
              "      <th>carb</th>\n",
              "    </tr>\n",
              "  </thead>\n",
              "  <tbody>\n",
              "    <tr>\n",
              "      <th>count</th>\n",
              "      <td>32.000000</td>\n",
              "      <td>32.000000</td>\n",
              "      <td>32.000000</td>\n",
              "      <td>32.000000</td>\n",
              "      <td>32.000000</td>\n",
              "      <td>32.000000</td>\n",
              "      <td>32.000000</td>\n",
              "      <td>32.000000</td>\n",
              "      <td>32.000000</td>\n",
              "      <td>32.000000</td>\n",
              "      <td>32.0000</td>\n",
              "    </tr>\n",
              "    <tr>\n",
              "      <th>mean</th>\n",
              "      <td>20.090625</td>\n",
              "      <td>6.187500</td>\n",
              "      <td>230.721875</td>\n",
              "      <td>146.687500</td>\n",
              "      <td>3.596563</td>\n",
              "      <td>3.217250</td>\n",
              "      <td>17.848750</td>\n",
              "      <td>0.437500</td>\n",
              "      <td>0.406250</td>\n",
              "      <td>3.687500</td>\n",
              "      <td>2.8125</td>\n",
              "    </tr>\n",
              "    <tr>\n",
              "      <th>std</th>\n",
              "      <td>6.026948</td>\n",
              "      <td>1.785922</td>\n",
              "      <td>123.938694</td>\n",
              "      <td>68.562868</td>\n",
              "      <td>0.534679</td>\n",
              "      <td>0.978457</td>\n",
              "      <td>1.786943</td>\n",
              "      <td>0.504016</td>\n",
              "      <td>0.498991</td>\n",
              "      <td>0.737804</td>\n",
              "      <td>1.6152</td>\n",
              "    </tr>\n",
              "    <tr>\n",
              "      <th>min</th>\n",
              "      <td>10.400000</td>\n",
              "      <td>4.000000</td>\n",
              "      <td>71.100000</td>\n",
              "      <td>52.000000</td>\n",
              "      <td>2.760000</td>\n",
              "      <td>1.513000</td>\n",
              "      <td>14.500000</td>\n",
              "      <td>0.000000</td>\n",
              "      <td>0.000000</td>\n",
              "      <td>3.000000</td>\n",
              "      <td>1.0000</td>\n",
              "    </tr>\n",
              "    <tr>\n",
              "      <th>25%</th>\n",
              "      <td>15.425000</td>\n",
              "      <td>4.000000</td>\n",
              "      <td>120.825000</td>\n",
              "      <td>96.500000</td>\n",
              "      <td>3.080000</td>\n",
              "      <td>2.581250</td>\n",
              "      <td>16.892500</td>\n",
              "      <td>0.000000</td>\n",
              "      <td>0.000000</td>\n",
              "      <td>3.000000</td>\n",
              "      <td>2.0000</td>\n",
              "    </tr>\n",
              "    <tr>\n",
              "      <th>50%</th>\n",
              "      <td>19.200000</td>\n",
              "      <td>6.000000</td>\n",
              "      <td>196.300000</td>\n",
              "      <td>123.000000</td>\n",
              "      <td>3.695000</td>\n",
              "      <td>3.325000</td>\n",
              "      <td>17.710000</td>\n",
              "      <td>0.000000</td>\n",
              "      <td>0.000000</td>\n",
              "      <td>4.000000</td>\n",
              "      <td>2.0000</td>\n",
              "    </tr>\n",
              "    <tr>\n",
              "      <th>75%</th>\n",
              "      <td>22.800000</td>\n",
              "      <td>8.000000</td>\n",
              "      <td>326.000000</td>\n",
              "      <td>180.000000</td>\n",
              "      <td>3.920000</td>\n",
              "      <td>3.610000</td>\n",
              "      <td>18.900000</td>\n",
              "      <td>1.000000</td>\n",
              "      <td>1.000000</td>\n",
              "      <td>4.000000</td>\n",
              "      <td>4.0000</td>\n",
              "    </tr>\n",
              "    <tr>\n",
              "      <th>max</th>\n",
              "      <td>33.900000</td>\n",
              "      <td>8.000000</td>\n",
              "      <td>472.000000</td>\n",
              "      <td>335.000000</td>\n",
              "      <td>4.930000</td>\n",
              "      <td>5.424000</td>\n",
              "      <td>22.900000</td>\n",
              "      <td>1.000000</td>\n",
              "      <td>1.000000</td>\n",
              "      <td>5.000000</td>\n",
              "      <td>8.0000</td>\n",
              "    </tr>\n",
              "  </tbody>\n",
              "</table>\n",
              "</div>\n",
              "      <button class=\"colab-df-convert\" onclick=\"convertToInteractive('df-8976d512-e5cf-4b44-8b0d-aa33751d7aec')\"\n",
              "              title=\"Convert this dataframe to an interactive table.\"\n",
              "              style=\"display:none;\">\n",
              "        \n",
              "  <svg xmlns=\"http://www.w3.org/2000/svg\" height=\"24px\"viewBox=\"0 0 24 24\"\n",
              "       width=\"24px\">\n",
              "    <path d=\"M0 0h24v24H0V0z\" fill=\"none\"/>\n",
              "    <path d=\"M18.56 5.44l.94 2.06.94-2.06 2.06-.94-2.06-.94-.94-2.06-.94 2.06-2.06.94zm-11 1L8.5 8.5l.94-2.06 2.06-.94-2.06-.94L8.5 2.5l-.94 2.06-2.06.94zm10 10l.94 2.06.94-2.06 2.06-.94-2.06-.94-.94-2.06-.94 2.06-2.06.94z\"/><path d=\"M17.41 7.96l-1.37-1.37c-.4-.4-.92-.59-1.43-.59-.52 0-1.04.2-1.43.59L10.3 9.45l-7.72 7.72c-.78.78-.78 2.05 0 2.83L4 21.41c.39.39.9.59 1.41.59.51 0 1.02-.2 1.41-.59l7.78-7.78 2.81-2.81c.8-.78.8-2.07 0-2.86zM5.41 20L4 18.59l7.72-7.72 1.47 1.35L5.41 20z\"/>\n",
              "  </svg>\n",
              "      </button>\n",
              "      \n",
              "  <style>\n",
              "    .colab-df-container {\n",
              "      display:flex;\n",
              "      flex-wrap:wrap;\n",
              "      gap: 12px;\n",
              "    }\n",
              "\n",
              "    .colab-df-convert {\n",
              "      background-color: #E8F0FE;\n",
              "      border: none;\n",
              "      border-radius: 50%;\n",
              "      cursor: pointer;\n",
              "      display: none;\n",
              "      fill: #1967D2;\n",
              "      height: 32px;\n",
              "      padding: 0 0 0 0;\n",
              "      width: 32px;\n",
              "    }\n",
              "\n",
              "    .colab-df-convert:hover {\n",
              "      background-color: #E2EBFA;\n",
              "      box-shadow: 0px 1px 2px rgba(60, 64, 67, 0.3), 0px 1px 3px 1px rgba(60, 64, 67, 0.15);\n",
              "      fill: #174EA6;\n",
              "    }\n",
              "\n",
              "    [theme=dark] .colab-df-convert {\n",
              "      background-color: #3B4455;\n",
              "      fill: #D2E3FC;\n",
              "    }\n",
              "\n",
              "    [theme=dark] .colab-df-convert:hover {\n",
              "      background-color: #434B5C;\n",
              "      box-shadow: 0px 1px 3px 1px rgba(0, 0, 0, 0.15);\n",
              "      filter: drop-shadow(0px 1px 2px rgba(0, 0, 0, 0.3));\n",
              "      fill: #FFFFFF;\n",
              "    }\n",
              "  </style>\n",
              "\n",
              "      <script>\n",
              "        const buttonEl =\n",
              "          document.querySelector('#df-8976d512-e5cf-4b44-8b0d-aa33751d7aec button.colab-df-convert');\n",
              "        buttonEl.style.display =\n",
              "          google.colab.kernel.accessAllowed ? 'block' : 'none';\n",
              "\n",
              "        async function convertToInteractive(key) {\n",
              "          const element = document.querySelector('#df-8976d512-e5cf-4b44-8b0d-aa33751d7aec');\n",
              "          const dataTable =\n",
              "            await google.colab.kernel.invokeFunction('convertToInteractive',\n",
              "                                                     [key], {});\n",
              "          if (!dataTable) return;\n",
              "\n",
              "          const docLinkHtml = 'Like what you see? Visit the ' +\n",
              "            '<a target=\"_blank\" href=https://colab.research.google.com/notebooks/data_table.ipynb>data table notebook</a>'\n",
              "            + ' to learn more about interactive tables.';\n",
              "          element.innerHTML = '';\n",
              "          dataTable['output_type'] = 'display_data';\n",
              "          await google.colab.output.renderOutput(dataTable, element);\n",
              "          const docLink = document.createElement('div');\n",
              "          docLink.innerHTML = docLinkHtml;\n",
              "          element.appendChild(docLink);\n",
              "        }\n",
              "      </script>\n",
              "    </div>\n",
              "  </div>\n",
              "  "
            ]
          },
          "metadata": {},
          "execution_count": 24
        }
      ]
    },
    {
      "cell_type": "markdown",
      "metadata": {
        "id": "SoJLJMlceORN"
      },
      "source": [
        " \n",
        "# Create basic charts\n",
        "\n",
        "- Line chart\n",
        "- Bar chart\n",
        "- Histogram\n",
        "- Box plot\n",
        "- Scatter plot\n",
        "\n",
        "\n"
      ]
    },
    {
      "cell_type": "code",
      "metadata": {
        "colab": {
          "base_uri": "https://localhost:8080/",
          "height": 282
        },
        "id": "hDUTvlJXdMaf",
        "outputId": "aa2bacc2-9355-4c05-f3aa-3919b2aca742"
      },
      "source": [
        "#Line chart\n",
        "df['wt'].plot.line(color='violet')"
      ],
      "execution_count": 36,
      "outputs": [
        {
          "output_type": "execute_result",
          "data": {
            "text/plain": [
              "<matplotlib.axes._subplots.AxesSubplot at 0x7faa74e2f490>"
            ]
          },
          "metadata": {},
          "execution_count": 36
        },
        {
          "output_type": "display_data",
          "data": {
            "text/plain": [
              "<Figure size 432x288 with 1 Axes>"
            ],
            "image/png": "[encoded data removed]"
          },
          "metadata": {
            "needs_background": "light"
          }
        }
      ]
    },
    {
      "cell_type": "code",
      "metadata": {
        "colab": {
          "base_uri": "https://localhost:8080/",
          "height": 283
        },
        "id": "ZqEk5ue2kTHA",
        "outputId": "bf7357b6-b7b7-4009-e206-d87ecd9cce1b"
      },
      "source": [
        "#Line chart\n",
        "df['wt'].plot.barh(color='turquoise', xticks=[0,10,20])"
      ],
      "execution_count": 35,
      "outputs": [
        {
          "output_type": "execute_result",
          "data": {
            "text/plain": [
              "<matplotlib.axes._subplots.AxesSubplot at 0x7faa75152550>"
            ]
          },
          "metadata": {},
          "execution_count": 35
        },
        {
          "output_type": "display_data",
          "data": {
            "text/plain": [
              "<Figure size 432x288 with 1 Axes>"
            ],
            "image/png": "[encoded data removed]"
          },
          "metadata": {
            "needs_background": "light"
          }
        }
      ]
    },
    {
      "cell_type": "code",
      "metadata": {
        "id": "f4i3cnmhkSwr",
        "colab": {
          "base_uri": "https://localhost:8080/",
          "height": 298
        },
        "outputId": "c274397d-aae4-4cb7-91a6-63c43e56bf20"
      },
      "source": [
        "#Histogram\n",
        "df['qsec'].plot.hist(bins=15,title='1/4 Mile Time')"
      ],
      "execution_count": 37,
      "outputs": [
        {
          "output_type": "execute_result",
          "data": {
            "text/plain": [
              "<matplotlib.axes._subplots.AxesSubplot at 0x7faa74a50cd0>"
            ]
          },
          "metadata": {},
          "execution_count": 37
        },
        {
          "output_type": "display_data",
          "data": {
            "text/plain": [
              "<Figure size 432x288 with 1 Axes>"
            ],
            "image/png": "[encoded data removed]"
          },
          "metadata": {
            "needs_background": "light"
          }
        }
      ]
    },
    {
      "cell_type": "code",
      "metadata": {
        "colab": {
          "base_uri": "https://localhost:8080/",
          "height": 298
        },
        "id": "HxD2cW6QeQE0",
        "outputId": "4352c7dd-68cd-4f37-bbab-e5afa51589b9"
      },
      "source": [
        "#Boxplot\n",
        "df['mpg'].plot.box(color ='orange', ylabel = 'test', title = 'this is my sweet chart that will get me through life')\n"
      ],
      "execution_count": 46,
      "outputs": [
        {
          "output_type": "execute_result",
          "data": {
            "text/plain": [
              "<matplotlib.axes._subplots.AxesSubplot at 0x7faa747a19d0>"
            ]
          },
          "metadata": {},
          "execution_count": 46
        },
        {
          "output_type": "display_data",
          "data": {
            "text/plain": [
              "<Figure size 432x288 with 1 Axes>"
            ],
            "image/png": "[encoded data removed]"
          },
          "metadata": {
            "needs_background": "light"
          }
        }
      ]
    },
    {
      "cell_type": "code",
      "metadata": {
        "colab": {
          "base_uri": "https://localhost:8080/",
          "height": 296
        },
        "id": "eVOSIP8SeYg3",
        "outputId": "e3c4ad04-7423-458b-87d6-2b48ec148255"
      },
      "source": [
        "#Scatter plot\n",
        "df.plot.scatter(x='wt',y='hp',c='red')"
      ],
      "execution_count": 52,
      "outputs": [
        {
          "output_type": "execute_result",
          "data": {
            "text/plain": [
              "<matplotlib.axes._subplots.AxesSubplot at 0x7faa744294f0>"
            ]
          },
          "metadata": {},
          "execution_count": 52
        },
        {
          "output_type": "display_data",
          "data": {
            "text/plain": [
              "<Figure size 432x288 with 1 Axes>"
            ],
            "image/png": "[encoded data removed]"
          },
          "metadata": {
            "needs_background": "light"
          }
        }
      ]
    }
  ]
}